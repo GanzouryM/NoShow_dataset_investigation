{
 "cells": [
  {
   "cell_type": "markdown",
   "metadata": {},
   "source": [
    "# Project: Investigate a Dataset - [No-show appointments]\n",
    "\n",
    "## Table of Contents\n",
    "<ul>\n",
    "<li><a href=\"#intro\">Introduction</a></li>\n",
    "<li><a href=\"#wrangling\">Data Wrangling</a></li>\n",
    "<li><a href=\"#eda\">Exploratory Data Analysis</a></li>\n",
    "<li><a href=\"#conclusions\">Conclusions</a></li>\n",
    "</ul>"
   ]
  },
  {
   "cell_type": "markdown",
   "metadata": {},
   "source": [
    "<a id='intro'></a>\n",
    "## Introduction\n",
    "\n",
    "### Dataset Description \n",
    "\n",
    "\n",
    "This dataset collects information from 100k medical appointments in Brazil and is focused on the question of whether or not patients show up for their appointment. A number of characteristics about the patient are included in each column.\n",
    "The data includes:\n",
    "> - PatientId\n",
    "> - AppointmentID\n",
    "> - Gender of the patient\n",
    "> - The day the patient scheduled the appointment\n",
    "> - The Appointment Day the patient chose\n",
    "> - Age of the patient\n",
    "> - The Neighbourhood where the patient lives\n",
    "> - Scholarship: whether the patient is on wellfare or not\n",
    "> - Hipertension: whether the patient has Hypertension or not (increased blood pressure)\n",
    "> - Diabetes: whether the patient has diabetes or not\n",
    "> - Alcoholism: whether the patient suffers alcoholism or not\n",
    "> - Handcap: whether the patient has a handicap\n",
    "> - SMS_received: whether the patient received an SMS before his appointment\n",
    "> - No-show: whether the patient showed up to their appointment\n",
    "\n",
    "\n",
    "### Question(s) for Analysis\n",
    "\n",
    "\n",
    "In our analysis of this data, we shall try to answer 4 main questions:\n",
    "- 1- On what day do people show up the most?\n",
    "- 2- Is there a relation between showing up and scholarship (wellfare)?\n",
    "- 3- Does receiving an SMS help with showing up?\n",
    "- 4- On average, how old were the patients that showed up?\n",
    "\n",
    "These questions seek to assess the relationship between showing up -or not showing up- and several other factors such as time, SMS reminders and age for example."
   ]
  },
  {
   "cell_type": "code",
   "execution_count": 55,
   "metadata": {},
   "outputs": [],
   "source": [
    "# We import the packages we'll use.\n",
    "# in this project we'll need the following packages\n",
    "import pandas as pd\n",
    "import matplotlib.pyplot as plt\n",
    "import numpy as np\n",
    "%matplotlib inline\n"
   ]
  },
  {
   "cell_type": "code",
   "execution_count": 56,
   "metadata": {},
   "outputs": [
    {
     "name": "stdout",
     "output_type": "stream",
     "text": [
      "Collecting pandas==0.25.0\n",
      "\u001b[?25l  Downloading https://files.pythonhosted.org/packages/1d/9a/7eb9952f4b4d73fbd75ad1d5d6112f407e695957444cb695cbb3cdab918a/pandas-0.25.0-cp36-cp36m-manylinux1_x86_64.whl (10.5MB)\n",
      "\u001b[K    100% |████████████████████████████████| 10.5MB 2.1MB/s eta 0:00:01  8% |██▊                             | 890kB 25.8MB/s eta 0:00:01    53% |█████████████████▎              | 5.6MB 19.7MB/s eta 0:00:01    63% |████████████████████▏           | 6.6MB 20.5MB/s eta 0:00:01    72% |███████████████████████         | 7.5MB 18.2MB/s eta 0:00:01    90% |█████████████████████████████   | 9.5MB 19.8MB/s eta 0:00:01\n",
      "\u001b[?25hRequirement already satisfied, skipping upgrade: pytz>=2017.2 in /opt/conda/lib/python3.6/site-packages (from pandas==0.25.0) (2017.3)\n",
      "Collecting numpy>=1.13.3 (from pandas==0.25.0)\n",
      "\u001b[?25l  Downloading https://files.pythonhosted.org/packages/45/b2/6c7545bb7a38754d63048c7696804a0d947328125d81bf12beaa692c3ae3/numpy-1.19.5-cp36-cp36m-manylinux1_x86_64.whl (13.4MB)\n",
      "\u001b[K    100% |████████████████████████████████| 13.4MB 3.0MB/s eta 0:00:01   47% |███████████████▏                | 6.4MB 26.7MB/s eta 0:00:01    90% |█████████████████████████████   | 12.1MB 24.2MB/s eta 0:00:01\n",
      "\u001b[?25hRequirement already satisfied, skipping upgrade: python-dateutil>=2.6.1 in /opt/conda/lib/python3.6/site-packages (from pandas==0.25.0) (2.6.1)\n",
      "Requirement already satisfied, skipping upgrade: six>=1.5 in /opt/conda/lib/python3.6/site-packages (from python-dateutil>=2.6.1->pandas==0.25.0) (1.11.0)\n",
      "\u001b[31mtensorflow 1.3.0 requires tensorflow-tensorboard<0.2.0,>=0.1.0, which is not installed.\u001b[0m\n",
      "Installing collected packages: numpy, pandas\n",
      "  Found existing installation: numpy 1.12.1\n",
      "    Uninstalling numpy-1.12.1:\n",
      "      Successfully uninstalled numpy-1.12.1\n",
      "  Found existing installation: pandas 0.23.3\n",
      "    Uninstalling pandas-0.23.3:\n",
      "      Successfully uninstalled pandas-0.23.3\n",
      "Successfully installed numpy-1.19.5 pandas-0.25.0\n"
     ]
    }
   ],
   "source": [
    "# Upgrade pandas to use dataframe.explode() function. \n",
    "!pip install --upgrade pandas==0.25.0"
   ]
  },
  {
   "cell_type": "markdown",
   "metadata": {},
   "source": [
    "<a id='wrangling'></a>\n",
    "## Data Wrangling\n",
    "\n",
    "In this section of the report, we will load in the data, check for cleanliness, and then trim and clean the dataset for analysis."
   ]
  },
  {
   "cell_type": "code",
   "execution_count": 57,
   "metadata": {},
   "outputs": [
    {
     "data": {
      "text/html": [
       "<div>\n",
       "<style scoped>\n",
       "    .dataframe tbody tr th:only-of-type {\n",
       "        vertical-align: middle;\n",
       "    }\n",
       "\n",
       "    .dataframe tbody tr th {\n",
       "        vertical-align: top;\n",
       "    }\n",
       "\n",
       "    .dataframe thead th {\n",
       "        text-align: right;\n",
       "    }\n",
       "</style>\n",
       "<table border=\"1\" class=\"dataframe\">\n",
       "  <thead>\n",
       "    <tr style=\"text-align: right;\">\n",
       "      <th></th>\n",
       "      <th>PatientId</th>\n",
       "      <th>AppointmentID</th>\n",
       "      <th>Gender</th>\n",
       "      <th>ScheduledDay</th>\n",
       "      <th>AppointmentDay</th>\n",
       "      <th>Age</th>\n",
       "      <th>Neighbourhood</th>\n",
       "      <th>Scholarship</th>\n",
       "      <th>Hipertension</th>\n",
       "      <th>Diabetes</th>\n",
       "      <th>Alcoholism</th>\n",
       "      <th>Handcap</th>\n",
       "      <th>SMS_received</th>\n",
       "      <th>No-show</th>\n",
       "    </tr>\n",
       "  </thead>\n",
       "  <tbody>\n",
       "    <tr>\n",
       "      <th>0</th>\n",
       "      <td>2.987250e+13</td>\n",
       "      <td>5642903</td>\n",
       "      <td>F</td>\n",
       "      <td>2016-04-29T18:38:08Z</td>\n",
       "      <td>2016-04-29T00:00:00Z</td>\n",
       "      <td>62</td>\n",
       "      <td>JARDIM DA PENHA</td>\n",
       "      <td>0</td>\n",
       "      <td>1</td>\n",
       "      <td>0</td>\n",
       "      <td>0</td>\n",
       "      <td>0</td>\n",
       "      <td>0</td>\n",
       "      <td>No</td>\n",
       "    </tr>\n",
       "    <tr>\n",
       "      <th>1</th>\n",
       "      <td>5.589978e+14</td>\n",
       "      <td>5642503</td>\n",
       "      <td>M</td>\n",
       "      <td>2016-04-29T16:08:27Z</td>\n",
       "      <td>2016-04-29T00:00:00Z</td>\n",
       "      <td>56</td>\n",
       "      <td>JARDIM DA PENHA</td>\n",
       "      <td>0</td>\n",
       "      <td>0</td>\n",
       "      <td>0</td>\n",
       "      <td>0</td>\n",
       "      <td>0</td>\n",
       "      <td>0</td>\n",
       "      <td>No</td>\n",
       "    </tr>\n",
       "    <tr>\n",
       "      <th>2</th>\n",
       "      <td>4.262962e+12</td>\n",
       "      <td>5642549</td>\n",
       "      <td>F</td>\n",
       "      <td>2016-04-29T16:19:04Z</td>\n",
       "      <td>2016-04-29T00:00:00Z</td>\n",
       "      <td>62</td>\n",
       "      <td>MATA DA PRAIA</td>\n",
       "      <td>0</td>\n",
       "      <td>0</td>\n",
       "      <td>0</td>\n",
       "      <td>0</td>\n",
       "      <td>0</td>\n",
       "      <td>0</td>\n",
       "      <td>No</td>\n",
       "    </tr>\n",
       "    <tr>\n",
       "      <th>3</th>\n",
       "      <td>8.679512e+11</td>\n",
       "      <td>5642828</td>\n",
       "      <td>F</td>\n",
       "      <td>2016-04-29T17:29:31Z</td>\n",
       "      <td>2016-04-29T00:00:00Z</td>\n",
       "      <td>8</td>\n",
       "      <td>PONTAL DE CAMBURI</td>\n",
       "      <td>0</td>\n",
       "      <td>0</td>\n",
       "      <td>0</td>\n",
       "      <td>0</td>\n",
       "      <td>0</td>\n",
       "      <td>0</td>\n",
       "      <td>No</td>\n",
       "    </tr>\n",
       "    <tr>\n",
       "      <th>4</th>\n",
       "      <td>8.841186e+12</td>\n",
       "      <td>5642494</td>\n",
       "      <td>F</td>\n",
       "      <td>2016-04-29T16:07:23Z</td>\n",
       "      <td>2016-04-29T00:00:00Z</td>\n",
       "      <td>56</td>\n",
       "      <td>JARDIM DA PENHA</td>\n",
       "      <td>0</td>\n",
       "      <td>1</td>\n",
       "      <td>1</td>\n",
       "      <td>0</td>\n",
       "      <td>0</td>\n",
       "      <td>0</td>\n",
       "      <td>No</td>\n",
       "    </tr>\n",
       "  </tbody>\n",
       "</table>\n",
       "</div>"
      ],
      "text/plain": [
       "      PatientId  AppointmentID Gender          ScheduledDay  \\\n",
       "0  2.987250e+13        5642903      F  2016-04-29T18:38:08Z   \n",
       "1  5.589978e+14        5642503      M  2016-04-29T16:08:27Z   \n",
       "2  4.262962e+12        5642549      F  2016-04-29T16:19:04Z   \n",
       "3  8.679512e+11        5642828      F  2016-04-29T17:29:31Z   \n",
       "4  8.841186e+12        5642494      F  2016-04-29T16:07:23Z   \n",
       "\n",
       "         AppointmentDay  Age      Neighbourhood  Scholarship  Hipertension  \\\n",
       "0  2016-04-29T00:00:00Z   62    JARDIM DA PENHA            0             1   \n",
       "1  2016-04-29T00:00:00Z   56    JARDIM DA PENHA            0             0   \n",
       "2  2016-04-29T00:00:00Z   62      MATA DA PRAIA            0             0   \n",
       "3  2016-04-29T00:00:00Z    8  PONTAL DE CAMBURI            0             0   \n",
       "4  2016-04-29T00:00:00Z   56    JARDIM DA PENHA            0             1   \n",
       "\n",
       "   Diabetes  Alcoholism  Handcap  SMS_received No-show  \n",
       "0         0           0        0             0      No  \n",
       "1         0           0        0             0      No  \n",
       "2         0           0        0             0      No  \n",
       "3         0           0        0             0      No  \n",
       "4         1           0        0             0      No  "
      ]
     },
     "execution_count": 57,
     "metadata": {},
     "output_type": "execute_result"
    }
   ],
   "source": [
    "# We Load the data and print out a few lines to examine the columns and some of the data.\n",
    "df = pd.read_csv('noshowappointments-kagglev2-may-2016.csv')\n",
    "df.head()"
   ]
  },
  {
   "cell_type": "code",
   "execution_count": 58,
   "metadata": {},
   "outputs": [
    {
     "data": {
      "text/plain": [
       "(110527, 14)"
      ]
     },
     "execution_count": 58,
     "metadata": {},
     "output_type": "execute_result"
    }
   ],
   "source": [
    "df.shape"
   ]
  },
  {
   "cell_type": "markdown",
   "metadata": {},
   "source": [
    "The data has 110,527 entries over 14 columns"
   ]
  },
  {
   "cell_type": "code",
   "execution_count": 59,
   "metadata": {
    "scrolled": true
   },
   "outputs": [
    {
     "name": "stdout",
     "output_type": "stream",
     "text": [
      "<class 'pandas.core.frame.DataFrame'>\n",
      "RangeIndex: 110527 entries, 0 to 110526\n",
      "Data columns (total 14 columns):\n",
      "PatientId         110527 non-null float64\n",
      "AppointmentID     110527 non-null int64\n",
      "Gender            110527 non-null object\n",
      "ScheduledDay      110527 non-null object\n",
      "AppointmentDay    110527 non-null object\n",
      "Age               110527 non-null int64\n",
      "Neighbourhood     110527 non-null object\n",
      "Scholarship       110527 non-null int64\n",
      "Hipertension      110527 non-null int64\n",
      "Diabetes          110527 non-null int64\n",
      "Alcoholism        110527 non-null int64\n",
      "Handcap           110527 non-null int64\n",
      "SMS_received      110527 non-null int64\n",
      "No-show           110527 non-null object\n",
      "dtypes: float64(1), int64(8), object(5)\n",
      "memory usage: 11.8+ MB\n"
     ]
    }
   ],
   "source": [
    "df.info()"
   ]
  },
  {
   "cell_type": "markdown",
   "metadata": {},
   "source": [
    "The data is surprisingly Free of null values.\n",
    "\n",
    "The patientID is in float form which doesn't make sense, but this is of no concern since we won't be tackling this particular variable in this study. \n",
    "\n",
    "The Appointment Day are in string format. We will have to change that to Date_Time.\n",
    "\n",
    "We will not be dealing with scheduled day."
   ]
  },
  {
   "cell_type": "code",
   "execution_count": 60,
   "metadata": {},
   "outputs": [
    {
     "data": {
      "text/html": [
       "<div>\n",
       "<style scoped>\n",
       "    .dataframe tbody tr th:only-of-type {\n",
       "        vertical-align: middle;\n",
       "    }\n",
       "\n",
       "    .dataframe tbody tr th {\n",
       "        vertical-align: top;\n",
       "    }\n",
       "\n",
       "    .dataframe thead th {\n",
       "        text-align: right;\n",
       "    }\n",
       "</style>\n",
       "<table border=\"1\" class=\"dataframe\">\n",
       "  <thead>\n",
       "    <tr style=\"text-align: right;\">\n",
       "      <th></th>\n",
       "      <th>PatientId</th>\n",
       "      <th>AppointmentID</th>\n",
       "      <th>Age</th>\n",
       "      <th>Scholarship</th>\n",
       "      <th>Hipertension</th>\n",
       "      <th>Diabetes</th>\n",
       "      <th>Alcoholism</th>\n",
       "      <th>Handcap</th>\n",
       "      <th>SMS_received</th>\n",
       "    </tr>\n",
       "  </thead>\n",
       "  <tbody>\n",
       "    <tr>\n",
       "      <th>count</th>\n",
       "      <td>1.105270e+05</td>\n",
       "      <td>1.105270e+05</td>\n",
       "      <td>110527.000000</td>\n",
       "      <td>110527.000000</td>\n",
       "      <td>110527.000000</td>\n",
       "      <td>110527.000000</td>\n",
       "      <td>110527.000000</td>\n",
       "      <td>110527.000000</td>\n",
       "      <td>110527.000000</td>\n",
       "    </tr>\n",
       "    <tr>\n",
       "      <th>mean</th>\n",
       "      <td>1.474963e+14</td>\n",
       "      <td>5.675305e+06</td>\n",
       "      <td>37.088874</td>\n",
       "      <td>0.098266</td>\n",
       "      <td>0.197246</td>\n",
       "      <td>0.071865</td>\n",
       "      <td>0.030400</td>\n",
       "      <td>0.022248</td>\n",
       "      <td>0.321026</td>\n",
       "    </tr>\n",
       "    <tr>\n",
       "      <th>std</th>\n",
       "      <td>2.560949e+14</td>\n",
       "      <td>7.129575e+04</td>\n",
       "      <td>23.110205</td>\n",
       "      <td>0.297675</td>\n",
       "      <td>0.397921</td>\n",
       "      <td>0.258265</td>\n",
       "      <td>0.171686</td>\n",
       "      <td>0.161543</td>\n",
       "      <td>0.466873</td>\n",
       "    </tr>\n",
       "    <tr>\n",
       "      <th>min</th>\n",
       "      <td>3.921784e+04</td>\n",
       "      <td>5.030230e+06</td>\n",
       "      <td>-1.000000</td>\n",
       "      <td>0.000000</td>\n",
       "      <td>0.000000</td>\n",
       "      <td>0.000000</td>\n",
       "      <td>0.000000</td>\n",
       "      <td>0.000000</td>\n",
       "      <td>0.000000</td>\n",
       "    </tr>\n",
       "    <tr>\n",
       "      <th>25%</th>\n",
       "      <td>4.172614e+12</td>\n",
       "      <td>5.640286e+06</td>\n",
       "      <td>18.000000</td>\n",
       "      <td>0.000000</td>\n",
       "      <td>0.000000</td>\n",
       "      <td>0.000000</td>\n",
       "      <td>0.000000</td>\n",
       "      <td>0.000000</td>\n",
       "      <td>0.000000</td>\n",
       "    </tr>\n",
       "    <tr>\n",
       "      <th>50%</th>\n",
       "      <td>3.173184e+13</td>\n",
       "      <td>5.680573e+06</td>\n",
       "      <td>37.000000</td>\n",
       "      <td>0.000000</td>\n",
       "      <td>0.000000</td>\n",
       "      <td>0.000000</td>\n",
       "      <td>0.000000</td>\n",
       "      <td>0.000000</td>\n",
       "      <td>0.000000</td>\n",
       "    </tr>\n",
       "    <tr>\n",
       "      <th>75%</th>\n",
       "      <td>9.439172e+13</td>\n",
       "      <td>5.725524e+06</td>\n",
       "      <td>55.000000</td>\n",
       "      <td>0.000000</td>\n",
       "      <td>0.000000</td>\n",
       "      <td>0.000000</td>\n",
       "      <td>0.000000</td>\n",
       "      <td>0.000000</td>\n",
       "      <td>1.000000</td>\n",
       "    </tr>\n",
       "    <tr>\n",
       "      <th>max</th>\n",
       "      <td>9.999816e+14</td>\n",
       "      <td>5.790484e+06</td>\n",
       "      <td>115.000000</td>\n",
       "      <td>1.000000</td>\n",
       "      <td>1.000000</td>\n",
       "      <td>1.000000</td>\n",
       "      <td>1.000000</td>\n",
       "      <td>4.000000</td>\n",
       "      <td>1.000000</td>\n",
       "    </tr>\n",
       "  </tbody>\n",
       "</table>\n",
       "</div>"
      ],
      "text/plain": [
       "          PatientId  AppointmentID            Age    Scholarship  \\\n",
       "count  1.105270e+05   1.105270e+05  110527.000000  110527.000000   \n",
       "mean   1.474963e+14   5.675305e+06      37.088874       0.098266   \n",
       "std    2.560949e+14   7.129575e+04      23.110205       0.297675   \n",
       "min    3.921784e+04   5.030230e+06      -1.000000       0.000000   \n",
       "25%    4.172614e+12   5.640286e+06      18.000000       0.000000   \n",
       "50%    3.173184e+13   5.680573e+06      37.000000       0.000000   \n",
       "75%    9.439172e+13   5.725524e+06      55.000000       0.000000   \n",
       "max    9.999816e+14   5.790484e+06     115.000000       1.000000   \n",
       "\n",
       "        Hipertension       Diabetes     Alcoholism        Handcap  \\\n",
       "count  110527.000000  110527.000000  110527.000000  110527.000000   \n",
       "mean        0.197246       0.071865       0.030400       0.022248   \n",
       "std         0.397921       0.258265       0.171686       0.161543   \n",
       "min         0.000000       0.000000       0.000000       0.000000   \n",
       "25%         0.000000       0.000000       0.000000       0.000000   \n",
       "50%         0.000000       0.000000       0.000000       0.000000   \n",
       "75%         0.000000       0.000000       0.000000       0.000000   \n",
       "max         1.000000       1.000000       1.000000       4.000000   \n",
       "\n",
       "        SMS_received  \n",
       "count  110527.000000  \n",
       "mean        0.321026  \n",
       "std         0.466873  \n",
       "min         0.000000  \n",
       "25%         0.000000  \n",
       "50%         0.000000  \n",
       "75%         1.000000  \n",
       "max         1.000000  "
      ]
     },
     "execution_count": 60,
     "metadata": {},
     "output_type": "execute_result"
    }
   ],
   "source": [
    "df.describe()"
   ]
  },
  {
   "cell_type": "markdown",
   "metadata": {},
   "source": [
    "Since most of the data is binary in nature(Yes/No, 1/0) the descriptive statistics of the data of those columns don't concern us very much.\n",
    "\n",
    "One area where we could gain some insight is the Age.\n",
    "\n",
    "It appears we have an age of -1, which is a nonsensical entry that is most likely a mistake and is best removed.\n",
    "\n",
    "Aside from that, it seems 50% of our patients fall below 37 years of age with an average of around 37 years as well suggesting the data isn't skewed in either directions."
   ]
  },
  {
   "cell_type": "code",
   "execution_count": 61,
   "metadata": {},
   "outputs": [
    {
     "data": {
      "text/plain": [
       "Int64Index([99832], dtype='int64')"
      ]
     },
     "execution_count": 61,
     "metadata": {},
     "output_type": "execute_result"
    }
   ],
   "source": [
    "df.loc[df[\"Age\"] < 0].index"
   ]
  },
  {
   "cell_type": "markdown",
   "metadata": {},
   "source": [
    "We locate the erroneous entry. Number 99832"
   ]
  },
  {
   "cell_type": "code",
   "execution_count": 62,
   "metadata": {},
   "outputs": [
    {
     "data": {
      "text/plain": [
       "PatientId                  4.65943e+14\n",
       "AppointmentID                  5775010\n",
       "Gender                               F\n",
       "ScheduledDay      2016-06-06T08:58:13Z\n",
       "AppointmentDay    2016-06-06T00:00:00Z\n",
       "Age                                 -1\n",
       "Neighbourhood                    ROMÃO\n",
       "Scholarship                          0\n",
       "Hipertension                         0\n",
       "Diabetes                             0\n",
       "Alcoholism                           0\n",
       "Handcap                              0\n",
       "SMS_received                         0\n",
       "No-show                             No\n",
       "Name: 99832, dtype: object"
      ]
     },
     "execution_count": 62,
     "metadata": {},
     "output_type": "execute_result"
    }
   ],
   "source": [
    "df.iloc[99832]"
   ]
  },
  {
   "cell_type": "code",
   "execution_count": 63,
   "metadata": {},
   "outputs": [
    {
     "data": {
      "text/plain": [
       "PatientId          62299\n",
       "AppointmentID     110527\n",
       "Gender                 2\n",
       "ScheduledDay      103549\n",
       "AppointmentDay        27\n",
       "Age                  104\n",
       "Neighbourhood         81\n",
       "Scholarship            2\n",
       "Hipertension           2\n",
       "Diabetes               2\n",
       "Alcoholism             2\n",
       "Handcap                5\n",
       "SMS_received           2\n",
       "No-show                2\n",
       "dtype: int64"
      ]
     },
     "execution_count": 63,
     "metadata": {},
     "output_type": "execute_result"
    }
   ],
   "source": [
    "df.nunique()"
   ]
  },
  {
   "cell_type": "markdown",
   "metadata": {},
   "source": [
    "It appears the patients have made repeated appointments seeing as 62,299 patients made 110,527 appointments.\n",
    "\n",
    "It also appears that the Handicapped variable is not binary as first assumed.\n",
    "\n",
    "https://www.kaggle.com/joniarroba/noshowappointments/discussion/30844#172847\n",
    "This post made by the dataset creator does indeed state that any values beyond 0 and 1 are erroneous."
   ]
  },
  {
   "cell_type": "code",
   "execution_count": 64,
   "metadata": {},
   "outputs": [
    {
     "data": {
      "text/plain": [
       "array([0, 1, 2, 3, 4])"
      ]
     },
     "execution_count": 64,
     "metadata": {},
     "output_type": "execute_result"
    }
   ],
   "source": [
    "df['Handcap'].unique()"
   ]
  },
  {
   "cell_type": "code",
   "execution_count": 65,
   "metadata": {},
   "outputs": [
    {
     "data": {
      "text/plain": [
       "PatientId         199\n",
       "AppointmentID     199\n",
       "Gender            199\n",
       "ScheduledDay      199\n",
       "AppointmentDay    199\n",
       "Age               199\n",
       "Neighbourhood     199\n",
       "Scholarship       199\n",
       "Hipertension      199\n",
       "Diabetes          199\n",
       "Alcoholism        199\n",
       "Handcap           199\n",
       "SMS_received      199\n",
       "No-show           199\n",
       "dtype: int64"
      ]
     },
     "execution_count": 65,
     "metadata": {},
     "output_type": "execute_result"
    }
   ],
   "source": [
    "df.query('Handcap > 1').count()"
   ]
  },
  {
   "cell_type": "markdown",
   "metadata": {},
   "source": [
    "We have 199 erroneous entries. I have chosen to drop those entries"
   ]
  },
  {
   "cell_type": "code",
   "execution_count": 66,
   "metadata": {},
   "outputs": [],
   "source": [
    "df.drop(df[df.Handcap > 1].index, inplace=True)"
   ]
  },
  {
   "cell_type": "code",
   "execution_count": 67,
   "metadata": {},
   "outputs": [
    {
     "data": {
      "text/plain": [
       "array([0, 1])"
      ]
     },
     "execution_count": 67,
     "metadata": {},
     "output_type": "execute_result"
    }
   ],
   "source": [
    "df['Handcap'].unique()"
   ]
  },
  {
   "cell_type": "markdown",
   "metadata": {},
   "source": [
    "The Handicapness variable is now a binary one where 0 means non-handicapped and 1 means handicapped"
   ]
  },
  {
   "cell_type": "code",
   "execution_count": 68,
   "metadata": {},
   "outputs": [
    {
     "data": {
      "text/plain": [
       "0"
      ]
     },
     "execution_count": 68,
     "metadata": {},
     "output_type": "execute_result"
    }
   ],
   "source": [
    "sum(df.duplicated())"
   ]
  },
  {
   "cell_type": "markdown",
   "metadata": {},
   "source": [
    "We have No duplicated rows."
   ]
  },
  {
   "cell_type": "markdown",
   "metadata": {},
   "source": [
    "\n",
    "### Data Cleaning\n",
    " "
   ]
  },
  {
   "cell_type": "code",
   "execution_count": 69,
   "metadata": {},
   "outputs": [
    {
     "data": {
      "text/html": [
       "<div>\n",
       "<style scoped>\n",
       "    .dataframe tbody tr th:only-of-type {\n",
       "        vertical-align: middle;\n",
       "    }\n",
       "\n",
       "    .dataframe tbody tr th {\n",
       "        vertical-align: top;\n",
       "    }\n",
       "\n",
       "    .dataframe thead th {\n",
       "        text-align: right;\n",
       "    }\n",
       "</style>\n",
       "<table border=\"1\" class=\"dataframe\">\n",
       "  <thead>\n",
       "    <tr style=\"text-align: right;\">\n",
       "      <th></th>\n",
       "      <th>Gender</th>\n",
       "      <th>AppointmentDay</th>\n",
       "      <th>Age</th>\n",
       "      <th>Scholarship</th>\n",
       "      <th>Hipertension</th>\n",
       "      <th>Diabetes</th>\n",
       "      <th>Alcoholism</th>\n",
       "      <th>Handcap</th>\n",
       "      <th>SMS_received</th>\n",
       "      <th>No-show</th>\n",
       "    </tr>\n",
       "  </thead>\n",
       "  <tbody>\n",
       "    <tr>\n",
       "      <th>0</th>\n",
       "      <td>F</td>\n",
       "      <td>2016-04-29T00:00:00Z</td>\n",
       "      <td>62</td>\n",
       "      <td>0</td>\n",
       "      <td>1</td>\n",
       "      <td>0</td>\n",
       "      <td>0</td>\n",
       "      <td>0</td>\n",
       "      <td>0</td>\n",
       "      <td>No</td>\n",
       "    </tr>\n",
       "    <tr>\n",
       "      <th>1</th>\n",
       "      <td>M</td>\n",
       "      <td>2016-04-29T00:00:00Z</td>\n",
       "      <td>56</td>\n",
       "      <td>0</td>\n",
       "      <td>0</td>\n",
       "      <td>0</td>\n",
       "      <td>0</td>\n",
       "      <td>0</td>\n",
       "      <td>0</td>\n",
       "      <td>No</td>\n",
       "    </tr>\n",
       "    <tr>\n",
       "      <th>2</th>\n",
       "      <td>F</td>\n",
       "      <td>2016-04-29T00:00:00Z</td>\n",
       "      <td>62</td>\n",
       "      <td>0</td>\n",
       "      <td>0</td>\n",
       "      <td>0</td>\n",
       "      <td>0</td>\n",
       "      <td>0</td>\n",
       "      <td>0</td>\n",
       "      <td>No</td>\n",
       "    </tr>\n",
       "    <tr>\n",
       "      <th>3</th>\n",
       "      <td>F</td>\n",
       "      <td>2016-04-29T00:00:00Z</td>\n",
       "      <td>8</td>\n",
       "      <td>0</td>\n",
       "      <td>0</td>\n",
       "      <td>0</td>\n",
       "      <td>0</td>\n",
       "      <td>0</td>\n",
       "      <td>0</td>\n",
       "      <td>No</td>\n",
       "    </tr>\n",
       "    <tr>\n",
       "      <th>4</th>\n",
       "      <td>F</td>\n",
       "      <td>2016-04-29T00:00:00Z</td>\n",
       "      <td>56</td>\n",
       "      <td>0</td>\n",
       "      <td>1</td>\n",
       "      <td>1</td>\n",
       "      <td>0</td>\n",
       "      <td>0</td>\n",
       "      <td>0</td>\n",
       "      <td>No</td>\n",
       "    </tr>\n",
       "  </tbody>\n",
       "</table>\n",
       "</div>"
      ],
      "text/plain": [
       "  Gender        AppointmentDay  Age  Scholarship  Hipertension  Diabetes  \\\n",
       "0      F  2016-04-29T00:00:00Z   62            0             1         0   \n",
       "1      M  2016-04-29T00:00:00Z   56            0             0         0   \n",
       "2      F  2016-04-29T00:00:00Z   62            0             0         0   \n",
       "3      F  2016-04-29T00:00:00Z    8            0             0         0   \n",
       "4      F  2016-04-29T00:00:00Z   56            0             1         1   \n",
       "\n",
       "   Alcoholism  Handcap  SMS_received No-show  \n",
       "0           0        0             0      No  \n",
       "1           0        0             0      No  \n",
       "2           0        0             0      No  \n",
       "3           0        0             0      No  \n",
       "4           0        0             0      No  "
      ]
     },
     "execution_count": 69,
     "metadata": {},
     "output_type": "execute_result"
    }
   ],
   "source": [
    "df.drop(['PatientId','AppointmentID','ScheduledDay','Neighbourhood'],axis=1,inplace=True)\n",
    "df.head()"
   ]
  },
  {
   "cell_type": "markdown",
   "metadata": {},
   "source": [
    "We start by dropping the unnecessary columns from our data."
   ]
  },
  {
   "cell_type": "code",
   "execution_count": 70,
   "metadata": {},
   "outputs": [],
   "source": [
    "df.drop(df.loc[df[\"Age\"] < 0].index,inplace=True)"
   ]
  },
  {
   "cell_type": "markdown",
   "metadata": {},
   "source": [
    "We also remove the erroneous age -1 from our dataset."
   ]
  },
  {
   "cell_type": "code",
   "execution_count": 71,
   "metadata": {},
   "outputs": [
    {
     "data": {
      "text/plain": [
       "(110327, 10)"
      ]
     },
     "execution_count": 71,
     "metadata": {},
     "output_type": "execute_result"
    }
   ],
   "source": [
    "df.shape"
   ]
  },
  {
   "cell_type": "code",
   "execution_count": 72,
   "metadata": {},
   "outputs": [
    {
     "name": "stdout",
     "output_type": "stream",
     "text": [
      "<class 'pandas.core.frame.DataFrame'>\n",
      "Int64Index: 110327 entries, 0 to 110526\n",
      "Data columns (total 10 columns):\n",
      "Gender            110327 non-null object\n",
      "AppointmentDay    110327 non-null object\n",
      "Age               110327 non-null int64\n",
      "Scholarship       110327 non-null int64\n",
      "Hipertension      110327 non-null int64\n",
      "Diabetes          110327 non-null int64\n",
      "Alcoholism        110327 non-null int64\n",
      "Handcap           110327 non-null int64\n",
      "SMS_received      110327 non-null int64\n",
      "No-show           110327 non-null object\n",
      "dtypes: int64(7), object(3)\n",
      "memory usage: 9.3+ MB\n"
     ]
    }
   ],
   "source": [
    "df.info()"
   ]
  },
  {
   "cell_type": "code",
   "execution_count": 73,
   "metadata": {},
   "outputs": [],
   "source": [
    "df[\"AppointmentDay\"] = pd.to_datetime(df[\"AppointmentDay\"])"
   ]
  },
  {
   "cell_type": "markdown",
   "metadata": {},
   "source": [
    "We change the appointment day to an appropriate format, datetime."
   ]
  },
  {
   "cell_type": "code",
   "execution_count": 45,
   "metadata": {},
   "outputs": [
    {
     "name": "stdout",
     "output_type": "stream",
     "text": [
      "<class 'pandas.core.frame.DataFrame'>\n",
      "Int64Index: 110327 entries, 0 to 110526\n",
      "Data columns (total 10 columns):\n",
      "Gender            110327 non-null object\n",
      "AppointmentDay    110327 non-null datetime64[ns]\n",
      "Age               110327 non-null int64\n",
      "Scholarship       110327 non-null int64\n",
      "Hipertension      110327 non-null int64\n",
      "Diabetes          110327 non-null int64\n",
      "Alcoholism        110327 non-null int64\n",
      "Handcap           110327 non-null int64\n",
      "SMS_received      110327 non-null int64\n",
      "No-show           110327 non-null object\n",
      "dtypes: datetime64[ns](1), int64(7), object(2)\n",
      "memory usage: 9.3+ MB\n"
     ]
    }
   ],
   "source": [
    "df.info()"
   ]
  },
  {
   "cell_type": "code",
   "execution_count": 46,
   "metadata": {},
   "outputs": [
    {
     "data": {
      "text/html": [
       "<div>\n",
       "<style scoped>\n",
       "    .dataframe tbody tr th:only-of-type {\n",
       "        vertical-align: middle;\n",
       "    }\n",
       "\n",
       "    .dataframe tbody tr th {\n",
       "        vertical-align: top;\n",
       "    }\n",
       "\n",
       "    .dataframe thead th {\n",
       "        text-align: right;\n",
       "    }\n",
       "</style>\n",
       "<table border=\"1\" class=\"dataframe\">\n",
       "  <thead>\n",
       "    <tr style=\"text-align: right;\">\n",
       "      <th></th>\n",
       "      <th>Gender</th>\n",
       "      <th>AppointmentDay</th>\n",
       "      <th>Age</th>\n",
       "      <th>Wellfare</th>\n",
       "      <th>Hypertension</th>\n",
       "      <th>Diabetes</th>\n",
       "      <th>Alcoholism</th>\n",
       "      <th>Handicapped</th>\n",
       "      <th>SMS_received</th>\n",
       "      <th>NoShow</th>\n",
       "    </tr>\n",
       "  </thead>\n",
       "  <tbody>\n",
       "    <tr>\n",
       "      <th>0</th>\n",
       "      <td>F</td>\n",
       "      <td>2016-04-29</td>\n",
       "      <td>62</td>\n",
       "      <td>0</td>\n",
       "      <td>1</td>\n",
       "      <td>0</td>\n",
       "      <td>0</td>\n",
       "      <td>0</td>\n",
       "      <td>0</td>\n",
       "      <td>No</td>\n",
       "    </tr>\n",
       "    <tr>\n",
       "      <th>1</th>\n",
       "      <td>M</td>\n",
       "      <td>2016-04-29</td>\n",
       "      <td>56</td>\n",
       "      <td>0</td>\n",
       "      <td>0</td>\n",
       "      <td>0</td>\n",
       "      <td>0</td>\n",
       "      <td>0</td>\n",
       "      <td>0</td>\n",
       "      <td>No</td>\n",
       "    </tr>\n",
       "    <tr>\n",
       "      <th>2</th>\n",
       "      <td>F</td>\n",
       "      <td>2016-04-29</td>\n",
       "      <td>62</td>\n",
       "      <td>0</td>\n",
       "      <td>0</td>\n",
       "      <td>0</td>\n",
       "      <td>0</td>\n",
       "      <td>0</td>\n",
       "      <td>0</td>\n",
       "      <td>No</td>\n",
       "    </tr>\n",
       "    <tr>\n",
       "      <th>3</th>\n",
       "      <td>F</td>\n",
       "      <td>2016-04-29</td>\n",
       "      <td>8</td>\n",
       "      <td>0</td>\n",
       "      <td>0</td>\n",
       "      <td>0</td>\n",
       "      <td>0</td>\n",
       "      <td>0</td>\n",
       "      <td>0</td>\n",
       "      <td>No</td>\n",
       "    </tr>\n",
       "    <tr>\n",
       "      <th>4</th>\n",
       "      <td>F</td>\n",
       "      <td>2016-04-29</td>\n",
       "      <td>56</td>\n",
       "      <td>0</td>\n",
       "      <td>1</td>\n",
       "      <td>1</td>\n",
       "      <td>0</td>\n",
       "      <td>0</td>\n",
       "      <td>0</td>\n",
       "      <td>No</td>\n",
       "    </tr>\n",
       "  </tbody>\n",
       "</table>\n",
       "</div>"
      ],
      "text/plain": [
       "  Gender AppointmentDay  Age  Wellfare  Hypertension  Diabetes  Alcoholism  \\\n",
       "0      F     2016-04-29   62         0             1         0           0   \n",
       "1      M     2016-04-29   56         0             0         0           0   \n",
       "2      F     2016-04-29   62         0             0         0           0   \n",
       "3      F     2016-04-29    8         0             0         0           0   \n",
       "4      F     2016-04-29   56         0             1         1           0   \n",
       "\n",
       "   Handicapped  SMS_received NoShow  \n",
       "0            0             0     No  \n",
       "1            0             0     No  \n",
       "2            0             0     No  \n",
       "3            0             0     No  \n",
       "4            0             0     No  "
      ]
     },
     "execution_count": 46,
     "metadata": {},
     "output_type": "execute_result"
    }
   ],
   "source": [
    "df.rename({\"Scholarship\": \"Wellfare\", \"Hipertension\":\"Hypertension\",\"Handcap\":\"Handicapped\",\"No-show\":\"NoShow\"},axis=1,inplace=True)\n",
    "df.head()"
   ]
  },
  {
   "cell_type": "markdown",
   "metadata": {},
   "source": [
    "For the sake of clarity, we edit some of the column names into more readable ones."
   ]
  },
  {
   "cell_type": "markdown",
   "metadata": {},
   "source": [
    "<a id='eda'></a>\n",
    "## Exploratory Data Analysis"
   ]
  },
  {
   "cell_type": "markdown",
   "metadata": {},
   "source": [
    "### Research Question 1 \"On what day do people show up the most?\""
   ]
  },
  {
   "cell_type": "code",
   "execution_count": 47,
   "metadata": {},
   "outputs": [
    {
     "data": {
      "text/html": [
       "<div>\n",
       "<style scoped>\n",
       "    .dataframe tbody tr th:only-of-type {\n",
       "        vertical-align: middle;\n",
       "    }\n",
       "\n",
       "    .dataframe tbody tr th {\n",
       "        vertical-align: top;\n",
       "    }\n",
       "\n",
       "    .dataframe thead th {\n",
       "        text-align: right;\n",
       "    }\n",
       "</style>\n",
       "<table border=\"1\" class=\"dataframe\">\n",
       "  <thead>\n",
       "    <tr style=\"text-align: right;\">\n",
       "      <th></th>\n",
       "      <th>Gender</th>\n",
       "      <th>AppointmentDay</th>\n",
       "      <th>Age</th>\n",
       "      <th>Wellfare</th>\n",
       "      <th>Hypertension</th>\n",
       "      <th>Diabetes</th>\n",
       "      <th>Alcoholism</th>\n",
       "      <th>Handicapped</th>\n",
       "      <th>SMS_received</th>\n",
       "      <th>NoShow</th>\n",
       "      <th>Day</th>\n",
       "    </tr>\n",
       "  </thead>\n",
       "  <tbody>\n",
       "    <tr>\n",
       "      <th>0</th>\n",
       "      <td>F</td>\n",
       "      <td>2016-04-29</td>\n",
       "      <td>62</td>\n",
       "      <td>0</td>\n",
       "      <td>1</td>\n",
       "      <td>0</td>\n",
       "      <td>0</td>\n",
       "      <td>0</td>\n",
       "      <td>0</td>\n",
       "      <td>No</td>\n",
       "      <td>Friday</td>\n",
       "    </tr>\n",
       "    <tr>\n",
       "      <th>1</th>\n",
       "      <td>M</td>\n",
       "      <td>2016-04-29</td>\n",
       "      <td>56</td>\n",
       "      <td>0</td>\n",
       "      <td>0</td>\n",
       "      <td>0</td>\n",
       "      <td>0</td>\n",
       "      <td>0</td>\n",
       "      <td>0</td>\n",
       "      <td>No</td>\n",
       "      <td>Friday</td>\n",
       "    </tr>\n",
       "    <tr>\n",
       "      <th>2</th>\n",
       "      <td>F</td>\n",
       "      <td>2016-04-29</td>\n",
       "      <td>62</td>\n",
       "      <td>0</td>\n",
       "      <td>0</td>\n",
       "      <td>0</td>\n",
       "      <td>0</td>\n",
       "      <td>0</td>\n",
       "      <td>0</td>\n",
       "      <td>No</td>\n",
       "      <td>Friday</td>\n",
       "    </tr>\n",
       "    <tr>\n",
       "      <th>3</th>\n",
       "      <td>F</td>\n",
       "      <td>2016-04-29</td>\n",
       "      <td>8</td>\n",
       "      <td>0</td>\n",
       "      <td>0</td>\n",
       "      <td>0</td>\n",
       "      <td>0</td>\n",
       "      <td>0</td>\n",
       "      <td>0</td>\n",
       "      <td>No</td>\n",
       "      <td>Friday</td>\n",
       "    </tr>\n",
       "    <tr>\n",
       "      <th>4</th>\n",
       "      <td>F</td>\n",
       "      <td>2016-04-29</td>\n",
       "      <td>56</td>\n",
       "      <td>0</td>\n",
       "      <td>1</td>\n",
       "      <td>1</td>\n",
       "      <td>0</td>\n",
       "      <td>0</td>\n",
       "      <td>0</td>\n",
       "      <td>No</td>\n",
       "      <td>Friday</td>\n",
       "    </tr>\n",
       "  </tbody>\n",
       "</table>\n",
       "</div>"
      ],
      "text/plain": [
       "  Gender AppointmentDay  Age  Wellfare  Hypertension  Diabetes  Alcoholism  \\\n",
       "0      F     2016-04-29   62         0             1         0           0   \n",
       "1      M     2016-04-29   56         0             0         0           0   \n",
       "2      F     2016-04-29   62         0             0         0           0   \n",
       "3      F     2016-04-29    8         0             0         0           0   \n",
       "4      F     2016-04-29   56         0             1         1           0   \n",
       "\n",
       "   Handicapped  SMS_received NoShow     Day  \n",
       "0            0             0     No  Friday  \n",
       "1            0             0     No  Friday  \n",
       "2            0             0     No  Friday  \n",
       "3            0             0     No  Friday  \n",
       "4            0             0     No  Friday  "
      ]
     },
     "execution_count": 47,
     "metadata": {},
     "output_type": "execute_result"
    }
   ],
   "source": [
    "df['Day'] = df['AppointmentDay'].dt.day_name()\n",
    "df.head()"
   ]
  },
  {
   "cell_type": "markdown",
   "metadata": {},
   "source": [
    "We start by extracting the days (by name) from our AppointmentDay column and adding them to a separate column, Day"
   ]
  },
  {
   "cell_type": "code",
   "execution_count": 51,
   "metadata": {},
   "outputs": [
    {
     "data": {
      "text/plain": [
       "(88049, 11)"
      ]
     },
     "execution_count": 51,
     "metadata": {},
     "output_type": "execute_result"
    }
   ],
   "source": [
    "df_show = df.query('NoShow == \"No\"')\n",
    "df_show.shape"
   ]
  },
  {
   "cell_type": "markdown",
   "metadata": {},
   "source": [
    "We have 88,207 appointments who did show up."
   ]
  },
  {
   "cell_type": "code",
   "execution_count": 49,
   "metadata": {},
   "outputs": [],
   "source": [
    "def bar_plt(df_unknown,column,color,title):\n",
    "    df_unknown[column].value_counts(normalize=True).plot.bar(figsize=(7,7),color=color,title=title);"
   ]
  },
  {
   "cell_type": "markdown",
   "metadata": {},
   "source": [
    "I will be using many charts here with certain parameters repeatedly, so I opted to put all those set parameters within a function for ease of use."
   ]
  },
  {
   "cell_type": "code",
   "execution_count": 52,
   "metadata": {},
   "outputs": [
    {
     "data": {
      "image/png": "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\n",
      "text/plain": [
       "<matplotlib.figure.Figure at 0x7f0725eae588>"
      ]
     },
     "metadata": {
      "needs_background": "light"
     },
     "output_type": "display_data"
    }
   ],
   "source": [
    "bar_plt(df_show,'Day','blue','Days by showing up')"
   ]
  },
  {
   "cell_type": "markdown",
   "metadata": {},
   "source": [
    "#### It appears that **Wednesday** is the most day where people show up to their appointments followed closely by Tuesday."
   ]
  },
  {
   "cell_type": "markdown",
   "metadata": {},
   "source": [
    "### Research Question 2 \"Is there a relation between showing up and scholarship (wellfare)?\""
   ]
  },
  {
   "cell_type": "code",
   "execution_count": 96,
   "metadata": {},
   "outputs": [],
   "source": [
    "df_sch = df.query('Scholarship == \"1\"')\n",
    "df_no_sch = df.query('Scholarship == \"0\"')"
   ]
  },
  {
   "cell_type": "code",
   "execution_count": 97,
   "metadata": {},
   "outputs": [
    {
     "data": {
      "image/png": "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\n",
      "text/plain": [
       "<matplotlib.figure.Figure at 0x7f704edbd320>"
      ]
     },
     "metadata": {
      "needs_background": "light"
     },
     "output_type": "display_data"
    }
   ],
   "source": [
    "bar_plt(df_sch,'NoShow','red','On scholarship')"
   ]
  },
  {
   "cell_type": "code",
   "execution_count": 98,
   "metadata": {},
   "outputs": [
    {
     "data": {
      "image/png": "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\n",
      "text/plain": [
       "<matplotlib.figure.Figure at 0x7f708433d2b0>"
      ]
     },
     "metadata": {
      "needs_background": "light"
     },
     "output_type": "display_data"
    }
   ],
   "source": [
    "bar_plt(df_no_sch,'NoShow','red','Not on scholarship')"
   ]
  },
  {
   "cell_type": "markdown",
   "metadata": {},
   "source": [
    "#### It appears that being on wellfare does not impact showing up to appointments."
   ]
  },
  {
   "cell_type": "markdown",
   "metadata": {},
   "source": [
    "### Research Question 3 \"Does receiving an SMS help with showing up?\""
   ]
  },
  {
   "cell_type": "code",
   "execution_count": 75,
   "metadata": {},
   "outputs": [],
   "source": [
    "df_no_sms = df.query('SMS_received == \"0\"')\n",
    "df_sms = df.query('SMS_received == \"1\"')"
   ]
  },
  {
   "cell_type": "code",
   "execution_count": 76,
   "metadata": {},
   "outputs": [
    {
     "data": {
      "text/plain": [
       "Gender            74892\n",
       "AppointmentDay    74892\n",
       "Age               74892\n",
       "Scholarship       74892\n",
       "Hipertension      74892\n",
       "Diabetes          74892\n",
       "Alcoholism        74892\n",
       "Handcap           74892\n",
       "SMS_received      74892\n",
       "No-show           74892\n",
       "dtype: int64"
      ]
     },
     "execution_count": 76,
     "metadata": {},
     "output_type": "execute_result"
    }
   ],
   "source": [
    "df_no_sms.count()"
   ]
  },
  {
   "cell_type": "code",
   "execution_count": 77,
   "metadata": {},
   "outputs": [
    {
     "data": {
      "text/plain": [
       "Gender            35435\n",
       "AppointmentDay    35435\n",
       "Age               35435\n",
       "Scholarship       35435\n",
       "Hipertension      35435\n",
       "Diabetes          35435\n",
       "Alcoholism        35435\n",
       "Handcap           35435\n",
       "SMS_received      35435\n",
       "No-show           35435\n",
       "dtype: int64"
      ]
     },
     "execution_count": 77,
     "metadata": {},
     "output_type": "execute_result"
    }
   ],
   "source": [
    "df_sms.count()"
   ]
  },
  {
   "cell_type": "markdown",
   "metadata": {},
   "source": [
    "Of our patients, 74,892 did NOT receive SMS for their appointments, while 35,435 did."
   ]
  },
  {
   "cell_type": "code",
   "execution_count": null,
   "metadata": {},
   "outputs": [],
   "source": [
    "def pie_plt(df_unknown,title):\n",
    "    df_unknown[\"NoShow\"].value_counts().plot.pie(figsize=(7,7),title=title,autopct='%1.1f%%');"
   ]
  },
  {
   "cell_type": "markdown",
   "metadata": {},
   "source": [
    "We make another function for pie charts as we did with bar charts."
   ]
  },
  {
   "cell_type": "code",
   "execution_count": 113,
   "metadata": {},
   "outputs": [
    {
     "data": {
      "image/png": "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\n",
      "text/plain": [
       "<matplotlib.figure.Figure at 0x7f704ec10f60>"
      ]
     },
     "metadata": {},
     "output_type": "display_data"
    }
   ],
   "source": [
    "pie_plt(df_no_sms,'No Shows - No SMS')"
   ]
  },
  {
   "cell_type": "code",
   "execution_count": 114,
   "metadata": {},
   "outputs": [
    {
     "data": {
      "image/png": "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\n",
      "text/plain": [
       "<matplotlib.figure.Figure at 0x7f704eb75908>"
      ]
     },
     "metadata": {},
     "output_type": "display_data"
    }
   ],
   "source": [
    "pie_plt(df_sms,'No Shows - SMS received')"
   ]
  },
  {
   "cell_type": "markdown",
   "metadata": {},
   "source": [
    "#### It does not appear that receiving an SMS helps significantly with people showing up to their appointments."
   ]
  },
  {
   "cell_type": "markdown",
   "metadata": {},
   "source": [
    "### Research Question 4 \"On average, how old were the patients that showed up?\""
   ]
  },
  {
   "cell_type": "code",
   "execution_count": 135,
   "metadata": {},
   "outputs": [],
   "source": [
    "df_didnt_show = df.query('NoShow == \"Yes\"')"
   ]
  },
  {
   "cell_type": "code",
   "execution_count": 136,
   "metadata": {},
   "outputs": [
    {
     "data": {
      "text/plain": [
       "NoShow\n",
       "No     37.790504\n",
       "Yes    34.317667\n",
       "Name: Age, dtype: float64"
      ]
     },
     "execution_count": 136,
     "metadata": {},
     "output_type": "execute_result"
    }
   ],
   "source": [
    "mean_ages = df.groupby('NoShow')['Age'].mean()\n",
    "mean_ages"
   ]
  },
  {
   "cell_type": "code",
   "execution_count": 138,
   "metadata": {},
   "outputs": [
    {
     "data": {
      "image/png": "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\n",
      "text/plain": [
       "<matplotlib.figure.Figure at 0x7f704f1c06a0>"
      ]
     },
     "metadata": {
      "needs_background": "light"
     },
     "output_type": "display_data"
    }
   ],
   "source": [
    "mean_ages.plot.bar(figsize=(6,6),color='green',title='Average Ages of shows and no shows');"
   ]
  },
  {
   "cell_type": "markdown",
   "metadata": {},
   "source": [
    "#### On average, people who did show up to their appointments were around 37.79 years old."
   ]
  },
  {
   "cell_type": "markdown",
   "metadata": {},
   "source": [
    "<a id='conclusions'></a>\n",
    "## Conclusions\n",
    "\n",
    "> **Tip**: Finally, summarize your findings and the results that have been performed in relation to the question(s) provided at the beginning of the analysis. Summarize the results accurately, and point out where additional research can be done or where additional information could be useful.\n",
    "\n",
    "\n",
    "> **Tip**: If you haven't done any statistical tests, do not imply any statistical conclusions. And make sure you avoid implying causation from correlation!\n",
    "\n",
    "### Limitations\n",
    "> **Tip**: Make sure that you are clear with regards to the limitations of your exploration. You should have at least 1 limitation explained clearly. \n",
    "\n",
    "> **Tip**: Once you are satisfied with your work here, check over your report to make sure that it is satisfies all the areas of the rubric (found on the project submission page at the end of the lesson). You should also probably remove all of the \"Tips\" like this one so that the presentation is as polished as possible.\n",
    "\n",
    "## Submitting your Project \n",
    "\n",
    "> **Tip**: Before you submit your project, you need to create a .html or .pdf version of this notebook in the workspace here. To do that, run the code cell below. If it worked correctly, you should get a return code of 0, and you should see the generated .html file in the workspace directory (click on the orange Jupyter icon in the upper left).\n",
    "\n",
    "> **Tip**: Alternatively, you can download this report as .html via the **File** > **Download as** submenu, and then manually upload it into the workspace directory by clicking on the orange Jupyter icon in the upper left, then using the Upload button.\n",
    "\n",
    "> **Tip**: Once you've done this, you can submit your project by clicking on the \"Submit Project\" button in the lower right here. This will create and submit a zip file with this .ipynb doc and the .html or .pdf version you created. Congratulations!"
   
   
   ]
  }
 ],
 "metadata": {
  "kernelspec": {
   "display_name": "Python 3",
   "language": "python",
   "name": "python3"
 },
 "nbformat": 4,
 "nbformat_minor": 2
}
